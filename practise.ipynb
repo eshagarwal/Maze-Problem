{
 "cells": [
  {
   "cell_type": "code",
   "execution_count": 5,
   "metadata": {},
   "outputs": [
    {
     "name": "stdout",
     "output_type": "stream",
     "text": [
      "Reversed string: ahse\n"
     ]
    }
   ],
   "source": [
    "# Reverse a string\n",
    "\n",
    "def reverse_string(string):\n",
    "    return string[::-1]\n",
    "\n",
    "string = str(input(\"Enter a string\"))\n",
    "reversed_string = reverse_string(string)\n",
    "print(f\"Reversed string: {reversed_string}\")"
   ]
  },
  {
   "cell_type": "code",
   "execution_count": 12,
   "metadata": {},
   "outputs": [
    {
     "name": "stdout",
     "output_type": "stream",
     "text": [
      "Palindrome\n"
     ]
    }
   ],
   "source": [
    "# Palindrome number \n",
    "\n",
    "def palindrome(string):\n",
    "    reverse_string = string[::-1]\n",
    "    if reverse_string == string:\n",
    "        print(\"Palindrome\")\n",
    "    else: \n",
    "        print(\"Not a Palindrome\")\n",
    "\n",
    "string = str(input(\"Enter a string\"))\n",
    "palindrome(string)"
   ]
  },
  {
   "cell_type": "code",
   "execution_count": 16,
   "metadata": {},
   "outputs": [
    {
     "name": "stdout",
     "output_type": "stream",
     "text": [
      "7\n"
     ]
    }
   ],
   "source": [
    "# Add two arrays \n",
    "\n",
    "s1 = 4\n",
    "s2 = 3\n",
    "\n",
    "sum = s1 + s2\n",
    "print(sum)"
   ]
  },
  {
   "cell_type": "code",
   "execution_count": 19,
   "metadata": {},
   "outputs": [
    {
     "name": "stdout",
     "output_type": "stream",
     "text": [
      "1 2 3 5 8 13 21 34 55 89 "
     ]
    }
   ],
   "source": [
    "# fibo\n",
    "n = 10\n",
    "num1 = 0\n",
    "num2 = 1\n",
    "next_number = num1 + num2\n",
    "\n",
    "for i in range(0, n):\n",
    "    next_number = num1 + num2\n",
    "    num1 = num2\n",
    "    num2 = next_number\n",
    "    print(next_number, end = \" \")"
   ]
  },
  {
   "cell_type": "code",
   "execution_count": 44,
   "metadata": {},
   "outputs": [
    {
     "name": "stdout",
     "output_type": "stream",
     "text": [
      "[]\n",
      "[1]\n",
      "[1, 2]\n",
      "[1, 2, 3]\n",
      "[1, 2, 3, 4]\n"
     ]
    }
   ],
   "source": [
    "# print a pyramid of numbers\n",
    "\n",
    "def pyramid(n):\n",
    "    array = [i for i in range(1, n+1)]\n",
    "    for i in range(len(array)):\n",
    "        # print(' '*(n-i-1)+'*'*(2*i+1))\n",
    "        print(array[0:i])\n",
    "\n",
    "pyramid(5)"
   ]
  },
  {
   "cell_type": "code",
   "execution_count": 41,
   "metadata": {},
   "outputs": [
    {
     "name": "stdout",
     "output_type": "stream",
     "text": [
      "['*']\n",
      "['*', '*']\n",
      "['*', '*', '*']\n",
      "['*', '*', '*', '*']\n",
      "['*', '*', '*', '*', '*']\n",
      "['*', '*', '*', '*', '*', '*']\n"
     ]
    }
   ],
   "source": [
    "def pyramid(n):\n",
    "    array = ['*' for i in range(1, n+1)]\n",
    "    for i in range(len(array)):\n",
    "        print(array[:i+1])\n",
    "\n",
    "pyramid(6)"
   ]
  },
  {
   "cell_type": "code",
   "execution_count": 47,
   "metadata": {},
   "outputs": [
    {
     "name": "stdout",
     "output_type": "stream",
     "text": [
      "Cecilie Lone Emil Tobias Linus\n"
     ]
    }
   ],
   "source": [
    "arr1 = [\"Cecilie\", \"Lone\"]\n",
    "arr2 = [\"Emil\", \"Tobias\", \"Linus\"]\n",
    "\n",
    "children = \" \".join(arr1 + arr2)\n",
    "print(children)"
   ]
  }
 ],
 "metadata": {
  "kernelspec": {
   "display_name": ".venv",
   "language": "python",
   "name": "python3"
  },
  "language_info": {
   "codemirror_mode": {
    "name": "ipython",
    "version": 3
   },
   "file_extension": ".py",
   "mimetype": "text/x-python",
   "name": "python",
   "nbconvert_exporter": "python",
   "pygments_lexer": "ipython3",
   "version": "3.9.6"
  }
 },
 "nbformat": 4,
 "nbformat_minor": 2
}
