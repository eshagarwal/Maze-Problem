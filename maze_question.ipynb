{
 "cells": [
  {
   "cell_type": "markdown",
   "metadata": {},
   "source": [
    "You are given the interface MazePosition. Objects that implement this interface represent fields of a two-dimensional maze. The interface is defined as follows:\n",
    " \n",
    "```javascript\n",
    "function MazePosition() {}\n",
    " \n",
    "// returns the MazePosition object above/below/left/right of this MazePosition object or null if there is a wall\n",
    "MazePosition.prototype.getUpper = function() { };\n",
    "MazePosition.prototype.getLeft = function() { };\n",
    "MazePosition.prototype.getRight = function() { };\n",
    "MazePosition.prototype.getLower = function() { };\n",
    " \n",
    "// returns true if this MazePosition is an exit to the maze\n",
    "MazePosition.prototype.isExit = function() { };\n",
    " \n",
    "// set and retrieve a visited flag, initially set to false\n",
    "MazePosition.prototype.getVisited = function() { };\n",
    "MazePosition.prototype.setVisited = function() { };\n",
    "```\n",
    " \n",
    "Note: Keep in mind that walls in the maze are represented as `null` values.\n",
    " \n",
    "Example:\n",
    " \n",
    "![Maze Solver Image](MazeSolver.png)\n",
    " \n",
    "**Task: Implement a getExit function that starts at an arbitrary position and returns the MazePosition where isExit is true**\n",
    " \n",
    "```javascript\n",
    "function getExit(position) {\n",
    "    // please implement this\n",
    "}\n",
    "```\n",
    " \n",
    "has context menu"
   ]
  }
 ],
 "metadata": {
  "language_info": {
   "name": "python"
  }
 },
 "nbformat": 4,
 "nbformat_minor": 2
}
